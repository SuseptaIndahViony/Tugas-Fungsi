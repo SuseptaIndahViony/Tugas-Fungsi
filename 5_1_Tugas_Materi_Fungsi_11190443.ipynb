{
 "cells": [
  {
   "cell_type": "code",
   "execution_count": null,
   "metadata": {
    "id": "22s8pI85u5_J"
   },
   "outputs": [],
   "source": []
  },
  {
   "cell_type": "markdown",
   "metadata": {
    "id": "fPMZcyuxvINI"
   },
   "source": [
    "**Soal 5.1.1**\n",
    "\n",
    "Berikut ini adalah potongan kode implementasi fungsi *luas_limas_segi_empat()*\n",
    "``` javascript\n",
    "print(\"Luas : %d\" % luas_limas_segi_empat(Alas_limas, Tinggi_limas))​\n",
    "```\n",
    "Lengkapilah kode tersebut dengan merancang sebuah fungsi agar bisa diimplementasikan sesuai dengan statment potongan kode diatas.\n",
    "dengan mengetikan pada code cell di bawah ini pada editor."
   ]
  },
  {
   "cell_type": "code",
   "execution_count": 2,
   "metadata": {
    "id": "WMeeaGjuxQfL"
   },
   "outputs": [
    {
     "name": "stdout",
     "output_type": "stream",
     "text": [
      "menghitung luas dan volume limas \n",
      "masukan luas alas=10\n",
      "masukan tinggi sisi=20\n",
      "masukan jumlah luas sisi tegak=40\n",
      "luas limas adalah= 50\n",
      "volume limas adalah= 66.66666666666666\n"
     ]
    }
   ],
   "source": [
    "# Soal 4.1.1\n",
    "print (\"menghitung luas dan volume limas \")\n",
    "\n",
    "la = int(input(\"masukan luas alas=\"))\n",
    "ts = int(input(\"masukan tinggi sisi=\"))\n",
    "jlst = int(input(\"masukan jumlah luas sisi tegak=\"))\n",
    "\n",
    "luas = la+jlst\n",
    "volume = 1/3*(la*ts)\n",
    "print(\"luas limas adalah=\",luas)\n",
    "print(\"volume limas adalah=\",volume)\n",
    "\n",
    "\n"
   ]
  }
 ],
 "metadata": {
  "colab": {
   "collapsed_sections": [],
   "name": "5.1_Tugas_Materi_Fungsi.ipynb",
   "provenance": []
  },
  "kernelspec": {
   "display_name": "Python 3",
   "language": "python",
   "name": "python3"
  },
  "language_info": {
   "codemirror_mode": {
    "name": "ipython",
    "version": 3
   },
   "file_extension": ".py",
   "mimetype": "text/x-python",
   "name": "python",
   "nbconvert_exporter": "python",
   "pygments_lexer": "ipython3",
   "version": "3.7.4"
  }
 },
 "nbformat": 4,
 "nbformat_minor": 1
}
